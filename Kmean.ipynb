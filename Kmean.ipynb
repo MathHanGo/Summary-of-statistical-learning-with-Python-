{
 "cells": [
  {
   "cell_type": "markdown",
   "metadata": {},
   "source": [
    "This section is summary of Coursera: Maching learning week 8 by Andrew Ng.\n",
    "\n",
    "Kmean is a unsupervised approach for clustering. Thus, we have a set of data $X=[x_1,x_2,\\cdots,x_p]$ $(x_i \\in \\mathbb{R}^n)$ without labels $y_i$ $( i=1,\\cdots,p)$.\n",
    "\n",
    "The algorithm of Kmean is summary as follow:\n",
    "1. random initialize K cluster centroids $\\mu_1,\\mu_2,\\cdots,\\mu_k \\in \\mathbb{R}^n)$\n",
    "2. find the closet cluster centroid $c_i$ for each $x_i$\n",
    "3. update all the cluster centroids by averaging the points belong to $\\mu_k$ \n",
    "4. repeat step 2 and step 3 until K cluster centriods are unchanged\n",
    "\n",
    "The objective function of Kmean is defined as follow:\n",
    "\n",
    "$J(c_1,c_2,\\cdots,c_p,\\mu_1,\\mu_2,\\cdots,\\mu_k) = \\frac{1}{m}\\sum\\|x_i - \\mu_{c_i}\\|^2$\n",
    "\n",
    "According to the second step of the above algorithm, we minimized this cost function by fixing $\\mu_1,\\mu_2,\\cdots,\\mu_k$. Then the third step of the algorithm tells us to minimized this cost funtion by fixing $c_1,c_2,\\cdots,c_p$. Thus our cost function could be reduced until convergence.\n",
    "\n",
    "The next problem is how to choose the initial cluster centroids. The objective function is non-convex implies that we cannot get the global minimization. Therefore, our results are decided by the initial cluster centroids. A common approach is to pick K training examples randomly as our initial cluster centroids and put them into our algoritm. Repeat the whole process for many times. Then we obtain servel local minimizations and pick the clustering with the lowest cost.\n",
    "\n",
    "Since we do not have reponses for our dataset, how to choose the number of clusters?\n",
    "\n",
    "In general, we can use the elbow method to determine K. But this method is not useful sometimes, we may evaluate Kmeans based on a metric for how well it performs for that later purpose.\n",
    "\n",
    "\n"
   ]
  },
  {
   "cell_type": "code",
   "execution_count": null,
   "metadata": {
    "collapsed": true
   },
   "outputs": [],
   "source": []
  },
  {
   "cell_type": "code",
   "execution_count": null,
   "metadata": {
    "collapsed": true
   },
   "outputs": [],
   "source": []
  }
 ],
 "metadata": {
  "kernelspec": {
   "display_name": "Python 3",
   "language": "python",
   "name": "python3"
  },
  "language_info": {
   "codemirror_mode": {
    "name": "ipython",
    "version": 3
   },
   "file_extension": ".py",
   "mimetype": "text/x-python",
   "name": "python",
   "nbconvert_exporter": "python",
   "pygments_lexer": "ipython3",
   "version": "3.6.5"
  }
 },
 "nbformat": 4,
 "nbformat_minor": 2
}
