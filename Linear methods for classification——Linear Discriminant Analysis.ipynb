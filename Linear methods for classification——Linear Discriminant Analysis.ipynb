{
 "cells": [
  {
   "cell_type": "markdown",
   "metadata": {},
   "source": [
    "#### Linear Discriminant Analysis(LDA)\n",
    "Logistic regression models $Pr(Y=k|X=x)$ by using the logistc function. LDA is another method to model this conditional probability by using the __Bayers' theorem__.\n",
    "\n",
    "The Bayers' theorem states that:\n",
    "\n",
    "$Pr(Y=k|X=x)=\\frac{\\pi_kf_k(x)}{\\sum_{l=1}^{K}\\pi_lf_l(x)}$, where $\\pi_k=Pr(Y=k)$ and $f_k(x)=Pr(X=x|Y=k)$. \n",
    "\n",
    "$\\pi_k$ is easy to estimate by computing the fraction of the training observations that belong to the $k$th class. But the estimation of $f_k(x)$ is more challenging unless we assume some simple forms for these densities.\n",
    "\n",
    "_First_, we assume that each class density $f_k(x)$ is multivariate Gaussian.\n",
    "\n",
    "LDA holds the assumption that all classes have a common covariance matrix. Then the _log-odds_ with class $k$ and class $l$ are defined:\n",
    "\n",
    "$log(\\frac{Pr(Y=k|X=x)}{Pr(Y=l|X=x)})=log(\\frac{\\pi_k}{\\pi_l})+log(\\frac{f_k(x)}{f_l(x)})=log(\\frac{\\pi_k}{\\pi_l}) = \\frac{1}{2}(\\mu_k+\\mu_l)^T\\sum^{-1}(\\mu_k-\\mu_l)+x^T\\sum^{-1}(\\mu_k-\\mu_l)$.\n",
    "\n",
    "This _log-odds_ is also the decision boundary between class $k$ and class $l$ if it is equal to zero.\n",
    "\n",
    "The equivalent description of the above formula can be written as $\\delta_k(x)=x^T\\sum^{-1}\\mu_k - \\frac{1}{2}\\mu_k\\sum^{-1}\\mu_k+log\\pi_k$. We call this function as _linear discriminant functions_ and it is linear in x. It can be seen that $\\pi_k$, $\\mu_k$ and $\\sum$ are unknown. But they can be estimated by training data.\n",
    "\n",
    "1. $\\hat\\pi_k=n_k/n$, where $n_k$ is the number of class-k observations\n",
    "2. $\\hat\\mu_k$ is the sample mean\n",
    "3. $\\hat\\sum$ is the sample covariance matrix\n",
    "\n",
    "But what if the covariance matrices are different for different classes?\n",
    "\n",
    "For this case, we have _Quadratic discriminant analysis_ (QDA). And $\\delta_k(x)$ becomes $\\delta_k(x)=-\\frac{1}{2}log|\\sum_k|-\\frac{1}{2}(x-\\mu_k)^T\\sum_k^{-1}(x-\\mu_k)+log\\pi_k$.\n"
   ]
  },
  {
   "cell_type": "code",
   "execution_count": 8,
   "metadata": {
    "collapsed": true
   },
   "outputs": [],
   "source": [
    "import pandas as pd\n",
    "import numpy as np\n",
    "import matplotlib\n",
    "import matplotlib.pyplot as plt\n",
    "%matplotlib inline \n",
    "from sklearn.discriminant_analysis import LinearDiscriminantAnalysis,QuadraticDiscriminantAnalysis\n",
    "from sklearn.model_selection import train_test_split\n",
    "from sklearn.datasets import load_digits\n",
    "from sklearn import metrics"
   ]
  },
  {
   "cell_type": "code",
   "execution_count": 12,
   "metadata": {
    "collapsed": true
   },
   "outputs": [],
   "source": [
    "def LDA(x,y):\n",
    "        dataMat_train, dataMat_test, label_train, label_test = train_test_split(x, y, test_size=0.25, random_state=42)\n",
    "        \n",
    "        lda=LinearDiscriminantAnalysis()\n",
    "        lda.fit(dataMat_train,label_train)\n",
    "        \n",
    "        predictions=lda.predict(dataMat_test)\n",
    "        \n",
    "        score=lda.score(dataMat_test,label_test)\n",
    "        cm=metrics.confusion_matrix(label_test, predictions)\n",
    "        return score,cm"
   ]
  },
  {
   "cell_type": "code",
   "execution_count": 13,
   "metadata": {
    "collapsed": true
   },
   "outputs": [],
   "source": [
    "def QDA(x,y):\n",
    "        dataMat_train, dataMat_test, label_train, label_test = train_test_split(x, y, test_size=0.25, random_state=42)\n",
    "        \n",
    "        lda=QuadraticDiscriminantAnalysis()\n",
    "        lda.fit(dataMat_train,label_train)\n",
    "        \n",
    "        predictions=lda.predict(dataMat_test)\n",
    "        \n",
    "        score=lda.score(dataMat_test,label_test)\n",
    "        cm=metrics.confusion_matrix(label_test, predictions)\n",
    "        return score,cm"
   ]
  },
  {
   "cell_type": "markdown",
   "metadata": {},
   "source": [
    "For the following dataset, the accuarcy is not good if we use logistic regression. So, how about LDA or QDA?"
   ]
  },
  {
   "cell_type": "code",
   "execution_count": 14,
   "metadata": {
    "collapsed": false
   },
   "outputs": [],
   "source": [
    "df=pd.read_csv('D:/math/book/data mining/ML/machinelearninginaction/Ch06/testSetRBF2.txt',sep='\\t',header=None)\n",
    "x=df.iloc[:,0:2]\n",
    "y=df.iloc[:,2]"
   ]
  },
  {
   "cell_type": "code",
   "execution_count": 15,
   "metadata": {
    "collapsed": false
   },
   "outputs": [
    {
     "name": "stdout",
     "output_type": "stream",
     "text": [
      "0.68\n",
      "[[8 4]\n",
      " [4 9]]\n"
     ]
    }
   ],
   "source": [
    "score1,cm1 = LDA(x,y)\n",
    "print(score1)\n",
    "print(cm1)"
   ]
  },
  {
   "cell_type": "code",
   "execution_count": null,
   "metadata": {
    "collapsed": true
   },
   "outputs": [],
   "source": []
  }
 ],
 "metadata": {
  "kernelspec": {
   "display_name": "Python 2",
   "language": "python",
   "name": "python2"
  },
  "language_info": {
   "codemirror_mode": {
    "name": "ipython",
    "version": 2
   },
   "file_extension": ".py",
   "mimetype": "text/x-python",
   "name": "python",
   "nbconvert_exporter": "python",
   "pygments_lexer": "ipython2",
   "version": "2.7.13"
  }
 },
 "nbformat": 4,
 "nbformat_minor": 2
}
