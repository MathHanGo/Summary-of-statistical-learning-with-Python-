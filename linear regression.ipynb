{
 "cells": [
  {
   "cell_type": "markdown",
   "metadata": {},
   "source": [
    "# Linear regression summary\n",
    "\n",
    "Linear regression is a method to predict quantitative response on the basis of a single predictor or multiple predictors by holding the assumption of a linear relationship between response and predictors. For each predictor, we give a coefficient to describe its weight. \n",
    "\n",
    "If we only have one predictor ${\\bf x}$ and the response ${\\bf y}$. Then the linear relationship between them can be formed as ${\\bf y} := \\beta_0 + \\beta_1{\\bf x}$ ( We give a weight $\\beta_1$ for ${\\bf x}$ to describe how ${\\bf x}$ close to ${\\bf y}$. Obvioulsy, if ${\\bf x}=0$, then ${\\bf y} = \\beta_0$, ${\\bf x}$ have no relationship with ${\\bf y}$). When we have more than one predictor, ${\\bf y} := \\beta_0 + \\beta_1{\\bf x}_1 + \\beta_2{\\bf x}_2+\\cdots+\\beta_p{\\bf x}_p$. For generalization, we form linear regression model as $f({\\bf x}) = \\beta_0 + \\sum_{i=1}^{p}{\\bf x_i}\\beta_i$. \n",
    "\n",
    "Our purpose is to predict ${\\bf Y}$ if given ${\\bf X}=[{\\bf 1},{\\bf x_1}, {\\bf x_2}, \\cdots, {\\bf x_p}]$. Thus, the first task is to estimate unknown coefficients $\\beta$ ( $\\beta=[\\beta_0, \\beta_1, \\cdots, \\beta_p]^T$). We may estimate the coefficient by a set of training date $({\\bf x_1},{\\bf y_1}), \\cdots, ({\\bf x_p},{\\bf y_p})$, where each ${\\bf x_i} = (x_{i1}, x_{i2},\\cdots, x_{ip})$. Noticed that each observation pair is assumed as an independent random draws from their population. Once we got the estimates $\\hat{\\beta}$, the prediction of ${\\bf Y}$ can be computed by $\\hat{\\bf Y} = {\\bf X}\\hat\\beta$.\n",
    "\n",
    "The most common method of coefficient estimation is __least squares__, which is to obtain $\\beta$ by minimizing the __residual sum of squares__. So what is the residual sum of square (RSS)?\n",
    "\n",
    "We define RSS as $RSS = \\sum_{i=1}^{n}(y_i - \\beta_0 - \\sum_{j=1}^{p}x_j\\beta_j)^2$ or a quadratic function $RSS(\\beta)=({\\bf y}-{\\bf X}\\beta)^T({\\bf y}-{\\bf X}\\beta)$, where ${\\bf X}$ is a $n \\times (p+1)$ matrix, $n$ refers to the number of observations and $p+1$ refers to the number of parameters. Differentiating the quadratic function with respect to $\\beta$ and let it euqal to $0$, we got:\n",
    "\n",
    "${\\bf X}^T({\\bf y} - {\\bf X}\\beta) = 0$. \n",
    "\n",
    "Thus,\n",
    "\n",
    "$\\hat{\\beta} = ({\\bf X}^T{\\bf X})^{-1}{\\bf X}^T{\\bf y}$. Noticed that the columns of ${\\bf X}$ is linearly independent so that it is a full-rank matrix. In this case, ${\\bf X}^T{\\bf X}$ is positive definite and thus we can calculate $\\hat{\\beta}$ directly. ($\\hat{\\beta}$ should be under the same distribution as ${\\bf y}$)\n",
    "\n",
    "We assume that the true relationship between predictors and response takes the from ${\\bf y} = f({\\bf x}) + \\epsilon$, where $\\epsilon \\backsim N(0,\\sigma^2)$. Therefore, ${\\bf y}$ is also random varibale of normal distribution and $Var({\\bf y}) = Var(\\epsilon) = \\sigma^2$.\n",
    "\n",
    "Then, we know that $Var(\\hat{\\beta}) = Var(({\\bf X}^T{\\bf X})^{-1}{\\bf X}^T{\\bf y}) = ({\\bf X}^T{\\bf X})^{-1}{\\bf X}^TVar({\\bf y}){\\bf X}({\\bf X}^T{\\bf X})^{-1}=({\\bf X}^T{\\bf X})^{-1}\\sigma^2$. \n",
    "\n",
    "$E(\\hat{\\beta})= E(({\\bf X}^T{\\bf X})^{-1}{\\bf X}^T{\\bf y})=E(({\\bf X}^T{\\bf X})^{-1}{\\bf X}^T{\\bf X}{\\beta})=\\beta$\n",
    "\n",
    "Thus, ${\\hat\\beta} \\backsim N(\\beta,({\\bf X}^T{\\bf X})^{-1}\\sigma^2)$ and this is a multivariate normal distribution."
   ]
  },
  {
   "cell_type": "markdown",
   "metadata": {},
   "source": [
    "Here is an example in the book ___Machine Learning in Action___. We first take a look at the data."
   ]
  },
  {
   "cell_type": "code",
   "execution_count": 5,
   "metadata": {
    "collapsed": false
   },
   "outputs": [],
   "source": [
    "import pandas as pd\n",
    "import numpy as np\n",
    "import matplotlib\n",
    "import matplotlib.pyplot as plt\n",
    "%matplotlib inline  "
   ]
  },
  {
   "cell_type": "code",
   "execution_count": 6,
   "metadata": {
    "collapsed": false
   },
   "outputs": [
    {
     "data": {
      "text/html": [
       "<div>\n",
       "<table border=\"1\" class=\"dataframe\">\n",
       "  <thead>\n",
       "    <tr style=\"text-align: right;\">\n",
       "      <th></th>\n",
       "      <th>0</th>\n",
       "      <th>1</th>\n",
       "      <th>2</th>\n",
       "    </tr>\n",
       "  </thead>\n",
       "  <tbody>\n",
       "    <tr>\n",
       "      <th>0</th>\n",
       "      <td>1.0</td>\n",
       "      <td>0.067732</td>\n",
       "      <td>3.176513</td>\n",
       "    </tr>\n",
       "    <tr>\n",
       "      <th>1</th>\n",
       "      <td>1.0</td>\n",
       "      <td>0.427810</td>\n",
       "      <td>3.816464</td>\n",
       "    </tr>\n",
       "    <tr>\n",
       "      <th>2</th>\n",
       "      <td>1.0</td>\n",
       "      <td>0.995731</td>\n",
       "      <td>4.550095</td>\n",
       "    </tr>\n",
       "    <tr>\n",
       "      <th>3</th>\n",
       "      <td>1.0</td>\n",
       "      <td>0.738336</td>\n",
       "      <td>4.256571</td>\n",
       "    </tr>\n",
       "    <tr>\n",
       "      <th>4</th>\n",
       "      <td>1.0</td>\n",
       "      <td>0.981083</td>\n",
       "      <td>4.560815</td>\n",
       "    </tr>\n",
       "  </tbody>\n",
       "</table>\n",
       "</div>"
      ],
      "text/plain": [
       "     0         1         2\n",
       "0  1.0  0.067732  3.176513\n",
       "1  1.0  0.427810  3.816464\n",
       "2  1.0  0.995731  4.550095\n",
       "3  1.0  0.738336  4.256571\n",
       "4  1.0  0.981083  4.560815"
      ]
     },
     "execution_count": 6,
     "metadata": {},
     "output_type": "execute_result"
    }
   ],
   "source": [
    "df=pd.read_csv('D:/math/book/data mining/ML/machinelearninginaction/Ch08/ex0.txt', sep='\\t',header=None)\n",
    "df.head()"
   ]
  },
  {
   "cell_type": "code",
   "execution_count": 40,
   "metadata": {
    "collapsed": false
   },
   "outputs": [
    {
     "name": "stdout",
     "output_type": "stream",
     "text": [
      "(200L, 2L)\n"
     ]
    }
   ],
   "source": [
    "dataMat=df.loc[:,0:1].as_matrix()\n",
    "print(dataMat.shape)\n",
    "label=df[2].as_matrix()"
   ]
  },
  {
   "cell_type": "code",
   "execution_count": 58,
   "metadata": {
    "collapsed": true
   },
   "outputs": [],
   "source": [
    "def standReg(x,y):\n",
    "    xTx=np.dot(x.T,x)\n",
    "    if np.linalg.det(xTx) == 0.0:\n",
    "        print('The inverse matrix does not exist')\n",
    "        return\n",
    "    return np.dot(np.linalg.inv(xTx), np.dot(x.T,y))"
   ]
  },
  {
   "cell_type": "code",
   "execution_count": 60,
   "metadata": {
    "collapsed": false
   },
   "outputs": [
    {
     "name": "stdout",
     "output_type": "stream",
     "text": [
      "We got the estimates of beta:\n",
      "[ 3.00774324  1.69532264]\n"
     ]
    }
   ],
   "source": [
    "beta_=standReg(dataMat,label)\n",
    "print('We got the estimates of beta:')\n",
    "print(beta_)"
   ]
  },
  {
   "cell_type": "code",
   "execution_count": 70,
   "metadata": {
    "collapsed": false
   },
   "outputs": [
    {
     "data": {
      "image/png": "[encoded data removed]",
      "text/plain": [
       "<matplotlib.figure.Figure at 0xad15828>"
      ]
     },
     "metadata": {},
     "output_type": "display_data"
    }
   ],
   "source": [
    "plt.scatter(dataMat[:,1],label)\n",
    "plt.plot(dataMat[:,1],np.dot(dataMat, beta_), color='r')\n",
    "fig=plt.gcf()\n",
    "plt.show()"
   ]
  },
  {
   "cell_type": "markdown",
   "metadata": {},
   "source": [
    "In the above example, we have only one predictors. It can be see all the values of the first column of _dataMat_ are 1. Because ${\\bf X}\\beta=[1 \\ {\\bf x_1}][\\beta_0 \\ \\beta_1]^T = \\beta_0 + \\beta_1{\\bf x_1}$. Thus we got $\\beta_0 = 3.00774324$ and $\\beta_1=1.69532264$. It can be seen that we make use of all observations to train the coefficients. But in general we would not do this.\n",
    "\n",
    "In general, we divide the data into two set, traning data and test data. The following example uses __sklearn__ library"
   ]
  },
  {
   "cell_type": "code",
   "execution_count": 124,
   "metadata": {
    "collapsed": false
   },
   "outputs": [],
   "source": [
    "from sklearn import datasets, linear_model\n",
    "from sklearn.model_selection import train_test_split\n",
    "from sklearn.metrics import mean_squared_error\n",
    "from sklearn.linear_model import RidgeCV, Ridge, LassoCV, Lasso"
   ]
  },
  {
   "cell_type": "code",
   "execution_count": 144,
   "metadata": {
    "collapsed": false
   },
   "outputs": [],
   "source": [
    "df=pd.read_csv('D:/math/book/data mining/ML/dataset/CCPP/Folds5x2_pp.csv')\n",
    "x = df[['AT', 'V', 'AP', 'RH']]\n",
    "y = df[['PE']]\n"
   ]
  },
  {
   "cell_type": "code",
   "execution_count": 154,
   "metadata": {
    "collapsed": true
   },
   "outputs": [],
   "source": [
    "def linear_regression(x,y):\n",
    "    dataMat_train, dataMat_test, label_train, label_test = train_test_split(x, y, test_size=0.25, random_state=42)\n",
    "    \n",
    "    linreg = linear_model.LinearRegression(fit_intercept =True) #We do not fit intercept becasue the first column of dataMat is 1\n",
    "    linreg.fit(dataMat_train,label_train)\n",
    "    print(linreg.coef_)\n",
    "    \n",
    "    label_pred = linreg.predict(dataMat_test)\n",
    "    mse = mean_squared_error(label_test, label_pred)\n",
    "    print(mse)"
   ]
  },
  {
   "cell_type": "code",
   "execution_count": 155,
   "metadata": {
    "collapsed": false
   },
   "outputs": [
    {
     "name": "stdout",
     "output_type": "stream",
     "text": [
      "[[-1.97852801 -0.23403882  0.05833255 -0.15906102]]\n",
      "20.0714469653\n"
     ]
    }
   ],
   "source": [
    "linear_regression(x,y)"
   ]
  },
  {
   "cell_type": "markdown",
   "metadata": {},
   "source": [
    "# More about linear regression\n",
    "\n",
    "The __least squares__ produces the estimates of $\\beta$ for getting future respones with ${\\bf x}$. This method gives us estimates often have low bias but high variance. It is not what we expect. We expect an estimate with low bias and low variace. By doing so we sacrifice a liitle bit of bias to reduce the variance of the preicted value. On the other hand, least squares make use all of the predictors. But when the number of predictors is large, we prefer a smaller subset predictors which exhibit the strongest effects.\n",
    "\n",
    "__First__, we see how close $\\hat{\\bf Y}$ to ${\\bf Y}$.\n",
    "\n",
    "If $\\mu$ is the mean of ${\\bf Y}$, we use sample mean $\\hat\\mu$ to estimate the $\\mu$. We always hope that the estimate is unbias such that $E(\\hat\\mu) = \\mu$. Then how far off will that single estimate of $\\hat\\mu$ be? We could answer this question by computing the variance of $\\hat\\mu$.\n",
    "\n",
    "Since $Var(\\hat\\mu)=Var(\\frac{1}{n}\\sum_{i=1}^{n}y_i)=\\frac{1}{n^2}Var(\\sum_{i=1}^{n}y_i)=\\frac{1}{n^2}\\ n\\sigma^2=\\frac{\\sigma^2}{n}$. It tells us, the large the number of observations $n$, the less the value of variance of $\\hat\\mu$. Thus, we conclude that if we want to reduce the variance, one of the method is to increase the number of observations.\n",
    "\n",
    "__Sechond__, we give two shinkage methods which could reduce the variance, __Rigdge Regression__ and __The Lasso__\n",
    "\n",
    "### Ridge Regression\n",
    "\n",
    "Ridge regression estimate the coefficient by minimizing a penalized RSS:\n",
    "\n",
    "$\\begin{equation}\n",
    "    RSS(\\beta_{rigde})=({\\bf y}-{\\bf X}\\beta)^T({\\bf y}-{\\bf X}\\beta) + \\lambda\\beta^T\\beta\n",
    "\\end{equation}$\n",
    "\n",
    "where $\\beta^T\\beta$ is the a norm-2 regularization. $\\lambda$ is the regularization parameter to balance two terms. Differentiating the $RSS(\\beta)$ with respect to $\\beta$ and let it euqal to $0$, we got $\\hat\\beta_{rigde}=({\\bf X}^T{\\bf X} + \\lambda{\\bf I})^{-1}{\\bf X}^T{\\bf y}$. Then $Var(\\hat{\\bf y}_{ridge})=Var({\\bf X}\\hat{\\beta}_{ridge}) = {\\bf X}({\\bf X}^T{\\bf X} + \\lambda{\\bf I})^{-1}{\\bf X}^T\\sigma^2$.\n",
    "\n",
    "Comparing with the variance of $Var(\\hat{\\bf y}) = {\\bf X}({\\bf X}^T{\\bf X})^{-1}{\\bf X}^T\\sigma^2$, we see that the variance of estimate is reduced.\n",
    "\n",
    "Notied that different $\\lambda$ produce a different set of $\\beta$. Thus, a good value for $\\lambda$ will be selected by cross-validation.\n",
    "\n",
    "Another thing in ridge regression. Different scaling of predictor will not effect ${\\bf X}_j\\hat\\beta_j$ in least squares. But it has impace in ridge regression because the $L_2$ penalty. Thus, it is best to apply ridge regression after standardizing the predictors.\n",
    "\n",
    "### The Lasso\n",
    "\n",
    "Instead of $L_2$ penlty, the lasso uses $L_1$ penlty. Its estimate is defined by $\\hat\\beta_lasso = argmin_{\\beta}\\{\\frac{1}{2}\\sum_{i=1}^{n}(y_i - \\beta_0 -\\sum_{j=1}^{p}x_ij\\beta_j)^2 + \\lambda\\sum_{j=1}^{p}|\\beta_j|\\}$. This latter constraint is non-convex, and there is no closed form expression. Although the lasso shrinks the coefficient estimates towards zero. But the $L_1$ penalty has the effect of forcing some of the coefficient estimates to be exactly equal to zero when the tuning parameter $\\lambda$ is sufficiently large. Thus, the lasso performs variable selection.\n",
    "\n",
    "There are two algorithm to solve the lasso, coordinate descent and least angle regression.(This part will be added later)"
   ]
  },
  {
   "cell_type": "code",
   "execution_count": 184,
   "metadata": {
    "collapsed": true
   },
   "outputs": [],
   "source": [
    "def ridge_regression(x,y):\n",
    "    dataMat_train, dataMat_test, label_train, label_test = train_test_split(x, y, test_size=0.25, random_state=42)\n",
    "    \n",
    "    #select the value of parameter by cross validation.\n",
    "    alpha_Mat= np.logspace(-10,10,10)\n",
    "    ridgecv = RidgeCV(alphas=alpha_Mat, fit_intercept=True,cv=10)\n",
    "    ridgecv.fit(dataMat_train, label_train)\n",
    "    \n",
    "    ridge = Ridge(alpha=ridgecv.alpha_,fit_intercept=True)\n",
    "    ridge.fit(dataMat_train,label_train)\n",
    "    print(ridgecv.alpha_)\n",
    "    \n",
    "    return ridge.coef_ , mean_squared_error(label_test, ridge.predict(dataMat_test))"
   ]
  },
  {
   "cell_type": "code",
   "execution_count": 185,
   "metadata": {
    "collapsed": false
   },
   "outputs": [
    {
     "name": "stdout",
     "output_type": "stream",
     "text": [
      "12.9154966501\n",
      "[[-1.9781638  -0.23417727  0.05842311 -0.15899963]]\n",
      "20.0714198433\n"
     ]
    }
   ],
   "source": [
    "a,b=ridge_regression(x,y)\n",
    "print(a)\n",
    "print(b)"
   ]
  },
  {
   "cell_type": "code",
   "execution_count": 186,
   "metadata": {
    "collapsed": false
   },
   "outputs": [],
   "source": [
    "def lasso_regression(x,y):\n",
    "    dataMat_train, dataMat_test, label_train, label_test = train_test_split(x, y, test_size=0.25, random_state=42)\n",
    "    \n",
    "    alpha_Mat= np.logspace(-10,10,10)\n",
    "    lassocv=LassoCV(alphas=alpha_Mat,fit_intercept=True,cv=10)\n",
    "    lassocv.fit(dataMat_train, label_train)\n",
    "    \n",
    "    lasso=Lasso(alpha=lassocv.alpha_,fit_intercept=True)\n",
    "    lasso.fit(dataMat_train,label_train)\n",
    "    print(lassocv.alpha_)\n",
    "    return lasso.coef_, mean_squared_error(label_test, lasso.predict(dataMat_test))"
   ]
  },
  {
   "cell_type": "code",
   "execution_count": 187,
   "metadata": {
    "collapsed": false
   },
   "outputs": [
    {
     "name": "stdout",
     "output_type": "stream",
     "text": [
      "0.000464158883361\n",
      "[-1.97858225 -0.23401902  0.05830488 -0.15906742]\n",
      "20.07145931\n"
     ]
    }
   ],
   "source": [
    "a,b=lasso_regression(x,y)\n",
    "print(a)\n",
    "print(b)"
   ]
  },
  {
   "cell_type": "code",
   "execution_count": null,
   "metadata": {
    "collapsed": false
   },
   "outputs": [],
   "source": []
  },
  {
   "cell_type": "code",
   "execution_count": null,
   "metadata": {
    "collapsed": true
   },
   "outputs": [],
   "source": []
  }
 ],
 "metadata": {
  "kernelspec": {
   "display_name": "Python 2",
   "language": "python",
   "name": "python2"
  },
  "language_info": {
   "codemirror_mode": {
    "name": "ipython",
    "version": 2
   },
   "file_extension": ".py",
   "mimetype": "text/x-python",
   "name": "python",
   "nbconvert_exporter": "python",
   "pygments_lexer": "ipython2",
   "version": "2.7.13"
  }
 },
 "nbformat": 4,
 "nbformat_minor": 2
}
