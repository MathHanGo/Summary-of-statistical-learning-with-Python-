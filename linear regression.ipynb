{
 "cells": [
  {
   "cell_type": "markdown",
   "metadata": {},
   "source": [
    "# Linear regression summary\n",
    "\n",
    "Linear regression is a method to predict quantitative response on the basis of a single predictor or multiple predictors by holding the assumption of a linear relationship between response and predictors. For each predictor, we give a coefficient to describe its weight. \n",
    "\n",
    "If we only have one predictor ${\\bf x}$ and the response ${\\bf y}$. Then the linear relationship between them can be formed as:\n",
    "\n",
    "${\\bf y} := \\beta_0 + \\beta_1{\\bf x}$ ( We give a weight $\\beta_1$ for ${\\bf x}$ to describe how ${\\bf x}$ close to ${\\bf y}$. Obvioulsy, if ${\\bf x}=0$, then ${\\bf y} = \\beta_0$, ${\\bf x}$ have no relationship with ${\\bf y}$)\n",
    "\n",
    "Our purpose is to predict ${\\bf y}$ if we give a ${\\bf x}$. Thus, the first task is to estimate unknown coefficient $\\beta_0$ and $\\beta_1$. Once we got the estimates $\\hat{\\beta_0}$ and $\\hat{\\beta_1}$, the prediction of ${\\bf y}$ can be computed by:\n",
    "\n",
    "$\\hat{\\bf y} = \\hat\\beta_0 + \\hat\\beta_1{\\bf x}$"
   ]
  },
  {
   "cell_type": "code",
   "execution_count": null,
   "metadata": {
    "collapsed": true
   },
   "outputs": [],
   "source": []
  }
 ],
 "metadata": {
  "kernelspec": {
   "display_name": "Python 2",
   "language": "python",
   "name": "python2"
  },
  "language_info": {
   "codemirror_mode": {
    "name": "ipython",
    "version": 2
   },
   "file_extension": ".py",
   "mimetype": "text/x-python",
   "name": "python",
   "nbconvert_exporter": "python",
   "pygments_lexer": "ipython2",
   "version": "2.7.13"
  }
 },
 "nbformat": 4,
 "nbformat_minor": 2
}
